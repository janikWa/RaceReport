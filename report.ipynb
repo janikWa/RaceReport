{
 "cells": [
  {
   "cell_type": "code",
   "execution_count": 4,
   "metadata": {},
   "outputs": [],
   "source": [
    "from dataservice import DataService\n"
   ]
  },
  {
   "cell_type": "code",
   "execution_count": 6,
   "metadata": {},
   "outputs": [
    {
     "name": "stdout",
     "output_type": "stream",
     "text": [
      "[DEBUG] DataService initialized.\n",
      "[DEBUG] Navigated to URL: https://my.raceresult.com/309137/\n",
      "[DEBUG] Source set to: https://my.raceresult.com/309137/\n",
      "[DEBUG] Current source: https://my.raceresult.com/309137/\n",
      "Cookie-Banner geschlossen.\n"
     ]
    },
    {
     "ename": "AttributeError",
     "evalue": "'DataService' object has no attribute 'get_metadata'",
     "output_type": "error",
     "traceback": [
      "\u001b[0;31m---------------------------------------------------------------------------\u001b[0m",
      "\u001b[0;31mAttributeError\u001b[0m                            Traceback (most recent call last)",
      "Cell \u001b[0;32mIn[6], line 3\u001b[0m\n\u001b[1;32m      1\u001b[0m obj \u001b[38;5;241m=\u001b[39m DataService()\n\u001b[1;32m      2\u001b[0m data \u001b[38;5;241m=\u001b[39m obj\u001b[38;5;241m.\u001b[39mscrape_data(\u001b[38;5;124m\"\u001b[39m\u001b[38;5;124mhttps://my.raceresult.com/309137/\u001b[39m\u001b[38;5;124m\"\u001b[39m)\n\u001b[0;32m----> 3\u001b[0m \u001b[38;5;28mprint\u001b[39m(obj\u001b[38;5;241m.\u001b[39mget_metadata())\n\u001b[1;32m      4\u001b[0m obj\u001b[38;5;241m.\u001b[39mclose()\n",
      "\u001b[0;31mAttributeError\u001b[0m: 'DataService' object has no attribute 'get_metadata'"
     ]
    }
   ],
   "source": [
    "obj = DataService()\n",
    "data = obj.scrape_data(\"https://my.raceresult.com/309137/\")\n",
    "print(obj.get_metadata())\n",
    "obj.close()\n"
   ]
  }
 ],
 "metadata": {
  "kernelspec": {
   "display_name": "base",
   "language": "python",
   "name": "python3"
  },
  "language_info": {
   "codemirror_mode": {
    "name": "ipython",
    "version": 3
   },
   "file_extension": ".py",
   "mimetype": "text/x-python",
   "name": "python",
   "nbconvert_exporter": "python",
   "pygments_lexer": "ipython3",
   "version": "3.11.9"
  }
 },
 "nbformat": 4,
 "nbformat_minor": 2
}
